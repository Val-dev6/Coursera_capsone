{
    "cells": [
        {
            "cell_type": "code",
            "execution_count": null,
            "metadata": {},
            "outputs": [],
            "source": "\n \n"
        },
        {
            "cell_type": "markdown",
            "metadata": {},
            "source": "# --------------------------- Capstone Project - The Battle of the   Neighborhoods  --------------"
        },
        {
            "cell_type": "markdown",
            "metadata": {},
            "source": "# ------------------------------------------------Toronto  Canada  --------------------------------------------"
        },
        {
            "attachments": {
                "toronto-398268__340.webp": {
                    "image/webp": "[encoded data removed]"
                }
            },
            "cell_type": "markdown",
            "metadata": {},
            "source": "![toronto-398268__340.webp](attachment:toronto-398268__340.webp)"
        },
        {
            "cell_type": "markdown",
            "metadata": {},
            "source": "## Applied Data Science Capstone by IBM/Coursera   ----  Valeriu  Badea"
        },
        {
            "cell_type": "markdown",
            "metadata": {},
            "source": "## Table of contents\n* [Introduction: Business Problem](#introduction)\n* [Data](#data)\n* [Methodology](#methodology)\n* [Analysis](#analysis)\n* [Results and Discussion](#results)\n* [Conclusion](#conclusion)    \n"
        },
        {
            "cell_type": "markdown",
            "metadata": {},
            "source": "## Introduction: Business Problem "
        },
        {
            "cell_type": "markdown",
            "metadata": {},
            "source": " Some investors from my native country, Romania asked me to analyze the investment possibilities in Toronto, Canada.\n The project can be also used by Toronto visitors, people who want to relocate in Toronto and investors interested in another kind of business\n Anyway their first preference is a traditional Romanian restaurant.\n The business requirements are large and the most important information come from financial data of the similar \n businesses around the chosen location. How many clients, how much they spend, what is the preferred menu are questions \n which will be analyzed in the followings studies. This initial project is going to respond to general problems like:\n\n1. Position (how many similar businesses are around, landscape, parking, local traffic, etc.\n   *  Proximity to other businesses. Neighboring businesses may influence your store's sales, and their presence can work for you or against you. \n   *  Customer parking facilities. The site should provide convenient, adequate parking as well as easy access for customers. \n   *  Accessibility. Consider how easy it will be for customers to reach into your business. If you are mostly considering pedestrian traffic, \n      consider whether or not nearby businesses will generate foot traffic for you.      \n   *  The rent-paying capacity. If you have done a sales-and-profit projection for your first year of operation, you will know approximately how much \n      revenue you can expect to generate, and you can use that information to decide how much rent you can afford to pay.\n   *  Traffic density. you have to check for food traffic, and to approximate sales potential of each pedestrian passing a given location.\n      Two factors are very important: total pedestrian traffic during business hours and the percentage of it that is likely to patronize your food service business.\n   *  History of the site. Take out the recent history of each site into consideration before you make a final selection. Who were the previous tenants,\n      and why are they no longer there?\n   *  Anticipated sales volume. Can the location contribute to your sales volume? \n      Consider how easy it will be for customers to get into your business.\n2. Demographic (nationality, income, age, etc.). Age is very important if you consider a restaurant business. \n    *  Generation Y (born between 1965 and 1980) is the most ethnically diverse generation yet and is more than three times the size of generation X. They are a prime target \n        for a food-service business. About 25 percent of their restaurant visits are to burger franchises, follow by pizza restaurants at 12 percent.\n    *  Baby boomers. (born between 1946 and 1964) They represent a group of affluent professionals who can afford to visit upscale restaurants and spend money freely. \n       During the 1980s, they were the main customer group for upscale, trendy restaurants. Today, those on the leading edge of the boomer generation are becoming grandparents,\n       making them best customers for restaurants that offer a family-friendly atmosphere and those that provide an upscale, formal dining experience.\n    *  Seniors age 65 and older. Generally, on fixed incomes and may not often be able to afford upscale restaurants.\n       They like to visit family-style restaurants that offer good service and reasonable prices. \"Younger\" seniors are likely to be more \n       active and have more disposable income than \"older\" seniors, whose health may be declining. Seniors typically appreciate restaurants that offer \n       early-bird specials and senior menus with lower prices and smaller portions, since their appetites are less hearty than those of younger people.\n\n\n\n\n\n"
        },
        {
            "cell_type": "markdown",
            "metadata": {},
            "source": ""
        },
        {
            "cell_type": "markdown",
            "metadata": {},
            "source": "### Data"
        },
        {
            "cell_type": "markdown",
            "metadata": {},
            "source": "  * After understanding the business I started an extensive search process for the most suitable data.\n  * The data have been clear out from nonimportant information. Useful tables have been copied and meaningful information has been stored\n    in pandas dataframes which could be visualized and analyzed\n  * The main idea is to use foursquare to find out the venues around some centroids,and after that to analyze the best opportunity\n     to place a business,in our case a restaurant.\n  * In order to do this a grid of equidistance centroids should be created to cover the whole city and its borrows.\n  * In Toronto case this isn't necessary because only a part of Postal offices cover the whole city.\n  * A subroutine in my code shows that the distances between any different postal offices locations is less than 700 m,\n     so the whole city can be covered by just a group of postal office location using a search radius of 500 m.\n  * I am happy about this discovery because I can use some work already done. Thank\u2019 s\n  * Information from \u2018Demographics_of_Toronto_neighbourhoods' help me to create comparations between Toronto\n     neighborhoods pertinent to establishment of a new business\n"
        },
        {
            "cell_type": "markdown",
            "metadata": {},
            "source": "####  I found the following useful data:\n\n* List of postal codes of Toronto Canada from Wikipedia  'http://en.wikipedia.org/wiki/List_of_postal_codes_of_Canada:_M'\n* IBM file                                               'http://cocl.us/Geospatial_data'       \n* Foursquare API\n* Latitude/Longitude Distance Calculator                 'https://www.nhc.noaa.gov/gccalc.shtml'\n* Demographics of Toronto Neighbourhoods from Wikipedia  'https://en.wikipedia.org/wiki/Demographics_of_Toronto_neighbourhoods'\n"
        },
        {
            "cell_type": "code",
            "execution_count": null,
            "metadata": {},
            "outputs": [],
            "source": ""
        },
        {
            "cell_type": "code",
            "execution_count": null,
            "metadata": {},
            "outputs": [],
            "source": ""
        },
        {
            "cell_type": "code",
            "execution_count": null,
            "metadata": {},
            "outputs": [],
            "source": ""
        },
        {
            "cell_type": "code",
            "execution_count": null,
            "metadata": {},
            "outputs": [],
            "source": ""
        },
        {
            "cell_type": "code",
            "execution_count": null,
            "metadata": {},
            "outputs": [],
            "source": ""
        },
        {
            "cell_type": "code",
            "execution_count": null,
            "metadata": {},
            "outputs": [],
            "source": ""
        },
        {
            "cell_type": "code",
            "execution_count": null,
            "metadata": {},
            "outputs": [],
            "source": ""
        },
        {
            "cell_type": "code",
            "execution_count": null,
            "metadata": {},
            "outputs": [],
            "source": ""
        },
        {
            "cell_type": "code",
            "execution_count": null,
            "metadata": {},
            "outputs": [],
            "source": ""
        },
        {
            "cell_type": "code",
            "execution_count": null,
            "metadata": {},
            "outputs": [],
            "source": ""
        },
        {
            "cell_type": "code",
            "execution_count": null,
            "metadata": {},
            "outputs": [],
            "source": ""
        },
        {
            "cell_type": "code",
            "execution_count": null,
            "metadata": {},
            "outputs": [],
            "source": ""
        },
        {
            "cell_type": "code",
            "execution_count": null,
            "metadata": {},
            "outputs": [],
            "source": ""
        },
        {
            "cell_type": "code",
            "execution_count": null,
            "metadata": {},
            "outputs": [],
            "source": ""
        },
        {
            "cell_type": "code",
            "execution_count": null,
            "metadata": {},
            "outputs": [],
            "source": ""
        },
        {
            "cell_type": "code",
            "execution_count": null,
            "metadata": {},
            "outputs": [],
            "source": ""
        },
        {
            "cell_type": "code",
            "execution_count": null,
            "metadata": {},
            "outputs": [],
            "source": ""
        }
    ],
    "metadata": {
        "kernelspec": {
            "display_name": "Python 3.6",
            "language": "python",
            "name": "python3"
        },
        "language_info": {
            "codemirror_mode": {
                "name": "ipython",
                "version": 3
            },
            "file_extension": ".py",
            "mimetype": "text/x-python",
            "name": "python",
            "nbconvert_exporter": "python",
            "pygments_lexer": "ipython3",
            "version": "3.6.9"
        }
    },
    "nbformat": 4,
    "nbformat_minor": 1
}